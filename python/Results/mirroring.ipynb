{
 "cells": [
  {
   "cell_type": "code",
   "execution_count": 1,
   "metadata": {},
   "outputs": [
    {
     "name": "stderr",
     "output_type": "stream",
     "text": [
      "/tmp/ipykernel_1431/1938408867.py:4: DeprecationWarning: The distutils package is deprecated and slated for removal in Python 3.12. Use setuptools or check PEP 632 for potential alternatives\n",
      "  from distutils.dir_util import copy_tree\n"
     ]
    }
   ],
   "source": [
    "# import OS module\n",
    "import os\n",
    "import pathlib\n",
    "from distutils.dir_util import copy_tree\n",
    "\n",
    "path = pathlib.Path().resolve() # working directory path\n",
    "dir_list = os.listdir(path)\n",
    "\n",
    "list_of_mirrors = []\n",
    "\n",
    "for folder in dir_list:\n",
    "    if folder.endswith(\"_db\"):\n",
    "        name_new = folder + '_mirrored'\n",
    "        copy_tree(folder, name_new)\n",
    "        list_of_mirrors.append(name_new)"
   ]
  },
  {
   "cell_type": "code",
   "execution_count": 2,
   "metadata": {},
   "outputs": [],
   "source": [
    "list_of_items = []\n",
    "for folder in list_of_mirrors:\n",
    "    path = str(pathlib.Path().resolve()) + '/' + folder\n",
    "    file_list = list(os.listdir(path))\n",
    "    for file in file_list:\n",
    "        file_path = path + '/' + file\n",
    "        #print(file_path)\n",
    "        sub = '.dat'\n",
    "        idx = file_path.index(sub)\n",
    "        res = ''\n",
    "        for idx_ in range(0, idx):\n",
    "            res = res + file_path[idx_]\n",
    "        new_path = res + '_mirrored.dat'\n",
    "        list_of_items.append(new_path)\n",
    "        with open(file_path) as fin, open(new_path,'w') as fout:\n",
    "            for line in fin:\n",
    "                splited_line  = line.split()\n",
    "                splited_line_new = []\n",
    "                for indice in range(0,len(splited_line)):\n",
    "                    if indice ==0:\n",
    "                        splited_line_new.append(splited_line[indice])\n",
    "                    else:\n",
    "                        splited_line_new.append(str(float(splited_line[indice])*-1))\n",
    "\n",
    "                fout.write( \"\\t\".join(splited_line_new) + \"\\n\" )\n",
    "\n",
    "        os.remove(file_path)"
   ]
  }
 ],
 "metadata": {
  "kernelspec": {
   "display_name": "venv",
   "language": "python",
   "name": "python3"
  },
  "language_info": {
   "codemirror_mode": {
    "name": "ipython",
    "version": 3
   },
   "file_extension": ".py",
   "mimetype": "text/x-python",
   "name": "python",
   "nbconvert_exporter": "python",
   "pygments_lexer": "ipython3",
   "version": "3.8.10 (default, Nov 14 2022, 12:59:47) \n[GCC 9.4.0]"
  },
  "orig_nbformat": 4,
  "vscode": {
   "interpreter": {
    "hash": "4fdfcde538a0b85c59b2e243a6b6234877baff00658d46331d49cdd4fb3ba8b6"
   }
  }
 },
 "nbformat": 4,
 "nbformat_minor": 2
}
