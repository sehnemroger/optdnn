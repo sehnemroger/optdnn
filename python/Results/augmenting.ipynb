{
 "cells": [
  {
   "cell_type": "code",
   "execution_count": 48,
   "metadata": {},
   "outputs": [],
   "source": [
    "from matplotlib import pyplot as plt\n",
    "import glob\n",
    "import os\n",
    "import numpy as np\n",
    "from matplotlib import pyplot as plt\n",
    "import matplotlib\n",
    "from scipy import interpolate\n",
    "import pandas as pd"
   ]
  },
  {
   "cell_type": "code",
   "execution_count": 49,
   "metadata": {},
   "outputs": [],
   "source": [
    "path = os.path.abspath(os.getcwd())"
   ]
  },
  {
   "cell_type": "code",
   "execution_count": 50,
   "metadata": {},
   "outputs": [],
   "source": [
    "files = glob.glob(path+'/*simulation*[!mirrored]/*.dat') # Get all .dat files in the folders that are not marked as mirrored"
   ]
  },
  {
   "cell_type": "code",
   "execution_count": 51,
   "metadata": {},
   "outputs": [],
   "source": [
    "# Filters all the repeating file paths with the same IC out\n",
    "files_filtered = []\n",
    "for file in files:\n",
    "    found = False\n",
    "    for file_f in files_filtered:\n",
    "        start = file.find('/q_')\n",
    "        if file[start:] in file_f:\n",
    "            found = True\n",
    "    if not found:\n",
    "        files_filtered.append(file)"
   ]
  },
  {
   "cell_type": "code",
   "execution_count": 52,
   "metadata": {},
   "outputs": [
    {
     "name": "stdout",
     "output_type": "stream",
     "text": [
      "2041 1370\n"
     ]
    }
   ],
   "source": [
    "print(len(files),len(files_filtered))"
   ]
  },
  {
   "cell_type": "code",
   "execution_count": 53,
   "metadata": {},
   "outputs": [],
   "source": [
    "data = np.loadtxt(files_filtered[0])\n",
    "# Remove repeated times\n",
    "mask = np.ones(len(data), dtype=bool)\n",
    "last_time = -1\n",
    "for i in range(len(data)):\n",
    "    actual_time = data[i,0]\n",
    "    if last_time >= actual_time:\n",
    "        mask[i] = False\n",
    "    last_time = actual_time\n",
    "data = data[mask]"
   ]
  },
  {
   "cell_type": "code",
   "execution_count": 54,
   "metadata": {},
   "outputs": [],
   "source": [
    "# \n",
    "samples = 1000\n",
    "t = np.linspace(data[0,0],data[-1,0],samples)\n",
    "data_resampled = np.zeros((len(t),len(data[0])))\n",
    "data_resampled[:,0] = t\n",
    "for i in range(1,len(data[0])):\n",
    "    tck = interpolate.splrep(data[:,0],data[:,i], s=0, k=3)\n",
    "    data_resampled[:,i] = interpolate.splev(t, tck, der=0)\n"
   ]
  },
  {
   "cell_type": "code",
   "execution_count": 55,
   "metadata": {},
   "outputs": [],
   "source": [
    "# create the negative trajectory\n",
    "data_inv = data_resampled.copy()\n",
    "data_inv[:,1:] *= -1"
   ]
  },
  {
   "cell_type": "code",
   "execution_count": 56,
   "metadata": {},
   "outputs": [],
   "source": [
    "# save the resulting np.array as a csv file\n",
    "# Create path names\n",
    "file = files_filtered[0]\n",
    "path_to_save_gen = path + '/data_augmented_db' + file[file.find('/q_'):-4]\n",
    "path_to_save = path_to_save_gen + '.txt'\n",
    "path_to_save_mirrored = path_to_save_gen + '_mirrored.txt'\n",
    "\n",
    "# saves np.arrays as .csv files\n",
    "np.savetxt(path_to_save, data_resampled, delimiter=',')\n",
    "np.savetxt(path_to_save_mirrored, data_inv, delimiter=',')"
   ]
  },
  {
   "cell_type": "code",
   "execution_count": 57,
   "metadata": {},
   "outputs": [],
   "source": [
    "# %matplotlib qt\n",
    "# for i in range(1,6):\n",
    "#     plt.figure()\n",
    "#     plt.plot(data[:,0],data[:,i],'x')\n",
    "#     plt.plot(data_resampled[:,0],data_resampled[:,i])\n",
    "#     plt.plot(data_inv[:,0],data_inv[:,i])"
   ]
  },
  {
   "attachments": {},
   "cell_type": "markdown",
   "metadata": {},
   "source": [
    "# Create augmented database"
   ]
  },
  {
   "cell_type": "code",
   "execution_count": 58,
   "metadata": {},
   "outputs": [],
   "source": [
    "for file in files_filtered:\n",
    "    data = np.loadtxt(file)\n",
    "    # Remove repeated times\n",
    "    mask = np.ones(len(data), dtype=bool)\n",
    "    last_time = -1\n",
    "    for i in range(len(data)):\n",
    "        actual_time = data[i,0]\n",
    "        if last_time >= actual_time:\n",
    "            mask[i] = False\n",
    "        last_time = actual_time\n",
    "    data = data[mask]\n",
    "    # Resample the data\n",
    "    samples = 1000\n",
    "    t = np.linspace(data[0,0],data[-1,0],samples)\n",
    "    data_resampled = np.zeros((len(t),len(data[0])))\n",
    "    data_resampled[:,0] = t\n",
    "    for i in range(1,len(data[0])):\n",
    "        tck = interpolate.splrep(data[:,0],data[:,i], s=0, k=3)\n",
    "        data_resampled[:,i] = interpolate.splev(t, tck, der=0)\n",
    "    # create the negative trajectory\n",
    "    data_inv = data_resampled.copy()\n",
    "    data_inv[:,1:] *= -1\n",
    "    # save the resulting np.array as a csv file\n",
    "    # Create path names\n",
    "    path_to_save_gen = path + '/data_augmented_db' + file[file.find('/q_'):-4]\n",
    "    path_to_save = path_to_save_gen + '.txt'\n",
    "    path_to_save_mirrored = path_to_save_gen + '_mirrored.txt'\n",
    "\n",
    "    # saves np.arrays as .csv files\n",
    "    np.savetxt(path_to_save, data_resampled, delimiter=',')\n",
    "    np.savetxt(path_to_save_mirrored, data_inv, delimiter=',')"
   ]
  }
 ],
 "metadata": {
  "kernelspec": {
   "display_name": "venv",
   "language": "python",
   "name": "python3"
  },
  "language_info": {
   "codemirror_mode": {
    "name": "ipython",
    "version": 3
   },
   "file_extension": ".py",
   "mimetype": "text/x-python",
   "name": "python",
   "nbconvert_exporter": "python",
   "pygments_lexer": "ipython3",
   "version": "3.8.10"
  },
  "orig_nbformat": 4,
  "vscode": {
   "interpreter": {
    "hash": "4fdfcde538a0b85c59b2e243a6b6234877baff00658d46331d49cdd4fb3ba8b6"
   }
  }
 },
 "nbformat": 4,
 "nbformat_minor": 2
}
